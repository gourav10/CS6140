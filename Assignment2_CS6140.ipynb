{
  "nbformat": 4,
  "nbformat_minor": 0,
  "metadata": {
    "colab": {
      "name": "Assignment2_CS6140.ipynb",
      "provenance": [],
      "collapsed_sections": [],
      "toc_visible": true,
      "authorship_tag": "ABX9TyOVekQPdhki0Q5eVNbKmJ//",
      "include_colab_link": true
    },
    "kernelspec": {
      "name": "python3",
      "display_name": "Python 3"
    },
    "language_info": {
      "name": "python"
    }
  },
  "cells": [
    {
      "cell_type": "markdown",
      "metadata": {
        "id": "view-in-github",
        "colab_type": "text"
      },
      "source": [
        "<a href=\"https://colab.research.google.com/github/gourav10/CS6140/blob/main/Assignment2_CS6140.ipynb\" target=\"_parent\"><img src=\"https://colab.research.google.com/assets/colab-badge.svg\" alt=\"Open In Colab\"/></a>"
      ]
    },
    {
      "cell_type": "markdown",
      "source": [
        ""
      ],
      "metadata": {
        "id": "mUixCkv5K4cv"
      }
    },
    {
      "cell_type": "code",
      "source": [
        "from google.colab import drive\n",
        "\n",
        "drive.mount('/content/gdrive')"
      ],
      "metadata": {
        "colab": {
          "base_uri": "https://localhost:8080/"
        },
        "id": "WNxyIxfCjCva",
        "outputId": "1ec49e35-403d-4ac7-f56e-459dba74553d"
      },
      "execution_count": 246,
      "outputs": [
        {
          "output_type": "stream",
          "name": "stdout",
          "text": [
            "Drive already mounted at /content/gdrive; to attempt to forcibly remount, call drive.mount(\"/content/gdrive\", force_remount=True).\n"
          ]
        }
      ]
    },
    {
      "cell_type": "markdown",
      "source": [
        "**Question 8. Gradient Descent Implmentation**"
      ],
      "metadata": {
        "id": "Vo0Wge9li25b"
      }
    },
    {
      "cell_type": "code",
      "source": [
        "import numpy as np\n",
        "import matplotlib.pyplot as plt"
      ],
      "metadata": {
        "id": "PZyF-Wv7ixGh"
      },
      "execution_count": 247,
      "outputs": []
    },
    {
      "cell_type": "code",
      "source": [
        "def f(x):\n",
        "  return np.power(x,4) + 4*np.power(x,3) -7*np.power(x,2) -10*x\n"
      ],
      "metadata": {
        "id": "LjnL-G9ul4hK"
      },
      "execution_count": 248,
      "outputs": []
    },
    {
      "cell_type": "markdown",
      "source": [
        "Plot of f(x)"
      ],
      "metadata": {
        "id": "eJvCdEZ01OcC"
      }
    },
    {
      "cell_type": "code",
      "source": [
        "m = 50\n",
        "theta1_true = 0.5\n",
        "x = np.linspace(-10,10,m)\n",
        "y = f(x)\n",
        "# setting the axes at the centre\n",
        "fig = plt.figure()\n",
        "ax = fig.add_subplot(1, 1, 1)\n",
        "ax.spines['left'].set_position('center')\n",
        "ax.spines['bottom'].set_position('center')\n",
        "ax.spines['right'].set_color('none')\n",
        "ax.spines['top'].set_color('none')\n",
        "ax.xaxis.set_ticks_position('bottom')\n",
        "ax.yaxis.set_ticks_position('left')\n",
        "\n",
        "# plot the function\n",
        "plt.plot(x,y, 'g')\n",
        "\n",
        "# show the plot\n",
        "plt.show()"
      ],
      "metadata": {
        "colab": {
          "base_uri": "https://localhost:8080/",
          "height": 248
        },
        "id": "4_mQtTGr1NvI",
        "outputId": "701098a9-83f5-4b64-d048-43c6cb5c5ed3"
      },
      "execution_count": 249,
      "outputs": [
        {
          "output_type": "display_data",
          "data": {
            "image/png": "[encoded data removed]",
            "text/plain": [
              "<Figure size 432x288 with 1 Axes>"
            ]
          },
          "metadata": {
            "needs_background": "light"
          }
        }
      ]
    },
    {
      "cell_type": "code",
      "source": [
        "def grad_f(x):\n",
        "  return 4*x*x*x + 12*x*x -14*x -10\n",
        "  # return 4*x**3 + 12*x**2 -14*x -10\n",
        "\n",
        "m = 50\n",
        "theta1_true = 0.5\n",
        "x = np.linspace(-10,10,m)\n",
        "y = grad_f(x)\n",
        "# setting the axes at the centre\n",
        "fig = plt.figure()\n",
        "ax = fig.add_subplot(1, 1, 1)\n",
        "ax.spines['left'].set_position('center')\n",
        "ax.spines['bottom'].set_position('center')\n",
        "ax.spines['right'].set_color('none')\n",
        "ax.spines['top'].set_color('none')\n",
        "ax.xaxis.set_ticks_position('bottom')\n",
        "ax.yaxis.set_ticks_position('left')\n",
        "\n",
        "# plot the function\n",
        "plt.plot(x,y, 'g')\n",
        "\n",
        "# show the plot\n",
        "plt.show()"
      ],
      "metadata": {
        "id": "OTtucMkynqGq",
        "colab": {
          "base_uri": "https://localhost:8080/",
          "height": 253
        },
        "outputId": "596fb7cf-f714-42f1-9cd2-25a79f45b495"
      },
      "execution_count": 250,
      "outputs": [
        {
          "output_type": "display_data",
          "data": {
            "image/png": "[encoded data removed]",
            "text/plain": [
              "<Figure size 432x288 with 1 Axes>"
            ]
          },
          "metadata": {
            "needs_background": "light"
          }
        }
      ]
    },
    {
      "cell_type": "code",
      "source": [
        "grad_f(2.1)"
      ],
      "metadata": {
        "colab": {
          "base_uri": "https://localhost:8080/"
        },
        "id": "u24za6fP_epQ",
        "outputId": "35e34a9a-febf-40fc-a506-82244a7c7daf"
      },
      "execution_count": 251,
      "outputs": [
        {
          "output_type": "execute_result",
          "data": {
            "text/plain": [
              "50.56400000000001"
            ]
          },
          "metadata": {},
          "execution_count": 251
        }
      ]
    },
    {
      "cell_type": "code",
      "source": [
        "def grad_descent(x,learn_rate=(1/20),max_iterations=10000,threshold = 0.001):\n",
        "  X_History = []\n",
        "  Y_History = []\n",
        "  vector = x\n",
        "  X_History.append(vector)\n",
        "  Y_History.append(f(vector))\n",
        "  converge = False\n",
        "  counter=1\n",
        "  for i in range(max_iterations):\n",
        "    grad = learn_rate*grad_f(vector)\n",
        "    vector= vector - grad\n",
        "    X_History.append(vector)\n",
        "    Y_History.append(f(vector))\n",
        "    counter+=1\n",
        "    if(abs(grad_f(vector))<threshold):\n",
        "      print(\"Convergence at {}\".format(vector))\n",
        "      converge = True\n",
        "      break\n",
        "  if(converge==False):\n",
        "    print(\"No Convergence!\")\n",
        "  else:\n",
        "    print(\"Iterations Completed: {}\".format(counter))\n",
        "    print(\"Values of X:\\n{}\".format(X_History))\n",
        "    # plot the function\n",
        "    plt.plot(X_History,Y_History, 'g')\n",
        "    # show the plot\n",
        "    plt.show()\n",
        "\n",
        "\n",
        "\n",
        "\n"
      ],
      "metadata": {
        "id": "-87JfQDqy800"
      },
      "execution_count": 252,
      "outputs": []
    },
    {
      "cell_type": "code",
      "source": [
        "grad_descent(2,(1/20))"
      ],
      "metadata": {
        "colab": {
          "base_uri": "https://localhost:8080/",
          "height": 354
        },
        "id": "YAwKfKyVJjxP",
        "outputId": "62d9110b-7bc7-474a-c08e-d8b085e996f8"
      },
      "execution_count": 253,
      "outputs": [
        {
          "output_type": "stream",
          "name": "stdout",
          "text": [
            "Convergence at 1.276459562543907\n",
            "Iterations Completed: 45\n",
            "Values of X:\n",
            "[2, -0.10000000000000009, 0.3241999999999998, 0.9812615663023998, 1.4014538046139455, 1.1535163577428298, 1.3556440453573875, 1.2036598081721204, 1.328171785721471, 1.230878151249827, 1.3104851409308178, 1.2472840415941344, 1.298868065150557, 1.2575875431869028, 1.2912013789397776, 1.2641832973260383, 1.2861426735867247, 1.268446840293649, 1.2828098138557351, 1.2712174451891318, 1.2806174808657258, 1.2730233368300254, 1.2791772483208634, 1.2742025406196622, 1.2782320108897698, 1.2749733788315583, 1.2776120640561803, 1.2754776171170596, 1.2772056527113365, 1.2758076047077493, 1.2769393099655264, 1.2760236181177058, 1.2767647981050652, 1.276165048317476, 1.2766504711292403, 1.2762576575800886, 1.2765755796045544, 1.276318303247984, 1.2765265237979189, 1.276358019359561, 1.2764943923017642, 1.2763840298031088, 1.2764733467570417, 1.2764010646412343, 1.276459562543907]\n"
          ]
        },
        {
          "output_type": "display_data",
          "data": {
            "image/png": "[encoded data removed]",
            "text/plain": [
              "<Figure size 432x288 with 1 Axes>"
            ]
          },
          "metadata": {
            "needs_background": "light"
          }
        }
      ]
    },
    {
      "cell_type": "code",
      "source": [
        "grad_descent(2,(1/14))"
      ],
      "metadata": {
        "colab": {
          "base_uri": "https://localhost:8080/"
        },
        "id": "dtp3vqST6fOp",
        "outputId": "b433243d-880c-4f84-aaa2-50d920fc2923"
      },
      "execution_count": 254,
      "outputs": [
        {
          "output_type": "stream",
          "name": "stdout",
          "text": [
            "No Convergence!\n"
          ]
        }
      ]
    },
    {
      "cell_type": "code",
      "source": [
        "grad_descent(-6,(1/100))"
      ],
      "metadata": {
        "colab": {
          "base_uri": "https://localhost:8080/",
          "height": 355
        },
        "id": "3H09OyqR85dB",
        "outputId": "b61f475c-4f16-4d7f-8a70-c27d8d390c33"
      },
      "execution_count": 255,
      "outputs": [
        {
          "output_type": "stream",
          "name": "stdout",
          "text": [
            "Convergence at -3.7548004519984155\n",
            "Iterations Completed: 15\n",
            "Values of X:\n",
            "[-6, -2.42, -2.79466848, -3.1500690460151706, -3.43151369692451, -3.6086777223730304, -3.6968310411686596, -3.7334560646258885, -3.747203122311591, -3.7521365200567964, -3.753876616572992, -3.754486545720146, -3.7546998611534232, -3.754774407634726, -3.7548004519984155]\n"
          ]
        },
        {
          "output_type": "display_data",
          "data": {
            "image/png": "[encoded data removed]",
            "text/plain": [
              "<Figure size 432x288 with 1 Axes>"
            ]
          },
          "metadata": {
            "needs_background": "light"
          }
        }
      ]
    },
    {
      "cell_type": "code",
      "source": [
        "grad_descent(2,(1/3))"
      ],
      "metadata": {
        "colab": {
          "base_uri": "https://localhost:8080/"
        },
        "id": "Upz986OC9oVA",
        "outputId": "a2fb6ce2-4f53-4ae4-dfd7-1592a9ee2873"
      },
      "execution_count": 256,
      "outputs": [
        {
          "output_type": "stream",
          "name": "stderr",
          "text": [
            "/usr/local/lib/python3.7/dist-packages/ipykernel_launcher.py:2: RuntimeWarning: overflow encountered in power\n",
            "  \n",
            "/usr/local/lib/python3.7/dist-packages/ipykernel_launcher.py:2: RuntimeWarning: invalid value encountered in double_scalars\n",
            "  \n"
          ]
        },
        {
          "output_type": "stream",
          "name": "stdout",
          "text": [
            "No Convergence!\n"
          ]
        }
      ]
    },
    {
      "cell_type": "markdown",
      "source": [
        "#Q9 Regression Implementation"
      ],
      "metadata": {
        "id": "8ROFNhx6-tt7"
      }
    },
    {
      "cell_type": "code",
      "source": [
        "def predict(X,theta):\n",
        "  return np.dot(X,theta)\n",
        "\n",
        "def getThetaClosedForm(X,Y):\n",
        "  Y = np.mat(Y)\n",
        "  first = np.dot(X.T,X)\n",
        "  second = np.dot(X.T,Y)\n",
        "\n",
        "  theta = np.linalg.pinv(first)*second\n",
        "  return theta"
      ],
      "metadata": {
        "id": "aHXj2VLSDNZZ"
      },
      "execution_count": 257,
      "outputs": []
    },
    {
      "cell_type": "code",
      "source": [
        "#{(0.10, 0.65),(0.50, 0.10),(0.90, 0.35),(−0.20, 0.17),(−0.5, 0.42),(1.50, 2.62)}\n",
        "X = np.array([0.10,0.50,0.90,-0.20,-0.5,1.50])\n",
        "X = X.reshape((-1,1))\n",
        "Y = np.array([0.65,0.10,0.35,0.17,0.42,2.62])\n",
        "Y = Y.reshape((-1,1))\n",
        "ones = np.zeros((X.shape[0],1))\n",
        "X_New = np.hstack((X,ones))\n",
        "print(X_New.shape)\n",
        "print(Y.shape)\n",
        "theta = getThetaClosedForm(X_New,Y)\n",
        "print(theta)"
      ],
      "metadata": {
        "colab": {
          "base_uri": "https://localhost:8080/"
        },
        "id": "m8ptGvWuE8PY",
        "outputId": "609941da-0527-4b47-d9fd-cc5439e5fe24"
      },
      "execution_count": 258,
      "outputs": [
        {
          "output_type": "stream",
          "name": "stdout",
          "text": [
            "(6, 2)\n",
            "(6, 1)\n",
            "[[1.1401662]\n",
            " [0.       ]]\n"
          ]
        }
      ]
    },
    {
      "cell_type": "code",
      "source": [
        "plt.figure()\n",
        "plt.scatter(X,Y)\n",
        "plt.plot(X,predict(X_New,theta),c='red')\n",
        "plt.title(\"Normalized Data\")\n",
        "plt.show()"
      ],
      "metadata": {
        "colab": {
          "base_uri": "https://localhost:8080/",
          "height": 281
        },
        "id": "v0q86Ct4GzG3",
        "outputId": "34ec3aaa-7f33-40e6-b77a-8f33e1dc94d4"
      },
      "execution_count": 259,
      "outputs": [
        {
          "output_type": "display_data",
          "data": {
            "image/png": "[encoded data removed]",
            "text/plain": [
              "<Figure size 432x288 with 1 Axes>"
            ]
          },
          "metadata": {
            "needs_background": "light"
          }
        }
      ]
    },
    {
      "cell_type": "code",
      "source": [
        "X = np.array([0.10,0.50,0.90,-0.20,-0.5])\n",
        "X = X.reshape((-1,1))\n",
        "Y = np.array([0.65,0.10,0.35,0.17,0.42])\n",
        "Y = Y.reshape((-1,1))\n",
        "ones = np.zeros((X.shape[0],1))\n",
        "X_New = np.hstack((X,ones))\n",
        "print(X_New.shape)\n",
        "print(Y.shape)\n",
        "theta = getThetaClosedForm(X_New,Y)\n",
        "print(theta)"
      ],
      "metadata": {
        "colab": {
          "base_uri": "https://localhost:8080/"
        },
        "id": "WUe1dSMxKYbE",
        "outputId": "7cc674ef-8d39-4590-eab8-c726631755f4"
      },
      "execution_count": 260,
      "outputs": [
        {
          "output_type": "stream",
          "name": "stdout",
          "text": [
            "(5, 2)\n",
            "(5, 1)\n",
            "[[0.13676471]\n",
            " [0.        ]]\n"
          ]
        }
      ]
    },
    {
      "cell_type": "code",
      "source": [
        "plt.figure()\n",
        "plt.scatter(X,Y)\n",
        "plt.plot(X,predict(X_New,theta),c='red')\n",
        "plt.show()"
      ],
      "metadata": {
        "colab": {
          "base_uri": "https://localhost:8080/",
          "height": 265
        },
        "id": "1VYQb7eXLJN9",
        "outputId": "fa592304-6681-4924-ec11-218d8eb4ff54"
      },
      "execution_count": 261,
      "outputs": [
        {
          "output_type": "display_data",
          "data": {
            "image/png": "[encoded data removed]",
            "text/plain": [
              "<Figure size 432x288 with 1 Axes>"
            ]
          },
          "metadata": {
            "needs_background": "light"
          }
        }
      ]
    },
    {
      "cell_type": "markdown",
      "source": [
        "# Question 10: Logistic Regression Implementation\n"
      ],
      "metadata": {
        "id": "KrQ_sVlmKzyV"
      }
    },
    {
      "cell_type": "code",
      "source": [
        "import scipy.io as sio\n",
        "import seaborn as sns\n",
        "import pandas as pd\n",
        "test = sio.loadmat('/content/gdrive/MyDrive/CS6140/hw02_dataset.mat')"
      ],
      "metadata": {
        "id": "KU6GDGx3Rige"
      },
      "execution_count": 262,
      "outputs": []
    },
    {
      "cell_type": "code",
      "source": [
        "test.keys()\n",
        "test['X_tst'][:5]\n",
        "test['Y_tst'][:5]"
      ],
      "metadata": {
        "colab": {
          "base_uri": "https://localhost:8080/"
        },
        "id": "Le6F2Y0eaTVE",
        "outputId": "c024bae1-c5e0-446a-ef72-f0d0f1ec9df7"
      },
      "execution_count": 263,
      "outputs": [
        {
          "output_type": "execute_result",
          "data": {
            "text/plain": [
              "array([[0],\n",
              "       [0],\n",
              "       [0],\n",
              "       [0],\n",
              "       [0]], dtype=uint8)"
            ]
          },
          "metadata": {},
          "execution_count": 263
        }
      ]
    },
    {
      "cell_type": "code",
      "source": [
        "def generateDataFrame(dataDict):\n",
        "  tempDict = {'X1':[],'X2':[],'target':[]}\n",
        "  for key in dataDict:\n",
        "    if(key=='X_trn'):\n",
        "      for values in dataDict[key]:\n",
        "        tempDict['X1'].append(values[0])\n",
        "        tempDict['X2'].append(values[1])\n",
        "    elif(key=='Y_trn'):\n",
        "      for val in dataDict[key]:\n",
        "        tempDict['target'].append(val[0])\n",
        "  return tempDict\n",
        "\n",
        "def generateTestDataFrame(dataDict):\n",
        "  tempDict = {'X1':[],'X2':[],'target':[]}\n",
        "  for key in dataDict:\n",
        "    if(key=='X_tst'):\n",
        "      for values in dataDict[key]:\n",
        "        tempDict['X1'].append(values[0])\n",
        "        tempDict['X2'].append(values[1])\n",
        "    elif(key=='Y_tst'):\n",
        "      for val in dataDict[key]:\n",
        "        tempDict['target'].append(val[0])\n",
        "  return tempDict"
      ],
      "metadata": {
        "id": "Ijib-1-7Sy9E"
      },
      "execution_count": 264,
      "outputs": []
    },
    {
      "cell_type": "code",
      "source": [
        "t = generateDataFrame(test)\n",
        "df_train = pd.DataFrame(data = t)\n",
        "df_train.head()\n",
        "\n",
        "df0 = df_train[df_train.target==0]\n",
        "df1 = df_train[df_train.target==1]\n",
        "\n",
        "plt.scatter(df0['X1'],df0['X2'],color='red',marker='.')\n",
        "plt.scatter(df1['X1'],df1['X2'],color='blue',marker='.')\n",
        "\n",
        "testDf_Dict = generateTestDataFrame(test)\n",
        "df_test = pd.DataFrame(data=testDf_Dict)"
      ],
      "metadata": {
        "colab": {
          "base_uri": "https://localhost:8080/",
          "height": 265
        },
        "id": "uBRZIhLmXxUZ",
        "outputId": "bcb0cb6c-e1c0-4666-e70f-c2d19a8a588a"
      },
      "execution_count": 265,
      "outputs": [
        {
          "output_type": "display_data",
          "data": {
            "image/png": "[encoded data removed]",
            "text/plain": [
              "<Figure size 432x288 with 1 Axes>"
            ]
          },
          "metadata": {
            "needs_background": "light"
          }
        }
      ]
    },
    {
      "cell_type": "code",
      "source": [
        "from sklearn.model_selection import train_test_split\n",
        "\n",
        "strain,stest  = train_test_split(df_train,test_size=0.2)"
      ],
      "metadata": {
        "id": "NuI275RDa2_O"
      },
      "execution_count": 266,
      "outputs": []
    },
    {
      "cell_type": "code",
      "source": [
        "len(strain)"
      ],
      "metadata": {
        "colab": {
          "base_uri": "https://localhost:8080/"
        },
        "id": "_aSfLTGWdEHk",
        "outputId": "748a279d-f148-4b6c-e35d-87696f7d9f51"
      },
      "execution_count": 267,
      "outputs": [
        {
          "output_type": "execute_result",
          "data": {
            "text/plain": [
              "100"
            ]
          },
          "metadata": {},
          "execution_count": 267
        }
      ]
    },
    {
      "cell_type": "code",
      "source": [
        "len(stest)"
      ],
      "metadata": {
        "colab": {
          "base_uri": "https://localhost:8080/"
        },
        "id": "O-fpY_hEdGLd",
        "outputId": "e5b17953-628e-4247-86f3-a4cd2cd51858"
      },
      "execution_count": 268,
      "outputs": [
        {
          "output_type": "execute_result",
          "data": {
            "text/plain": [
              "26"
            ]
          },
          "metadata": {},
          "execution_count": 268
        }
      ]
    },
    {
      "cell_type": "code",
      "source": [
        "from sklearn.linear_model import LogisticRegression\n",
        "model = LogisticRegression()"
      ],
      "metadata": {
        "id": "zQQ_k3J5dLP8"
      },
      "execution_count": 269,
      "outputs": []
    },
    {
      "cell_type": "code",
      "source": [
        "model.fit(strain[['X1','X2']],strain['target'])"
      ],
      "metadata": {
        "colab": {
          "base_uri": "https://localhost:8080/"
        },
        "id": "QsSY4JvJdYG8",
        "outputId": "975e3759-4a34-448a-84a0-eac53f3289ee"
      },
      "execution_count": 270,
      "outputs": [
        {
          "output_type": "execute_result",
          "data": {
            "text/plain": [
              "LogisticRegression()"
            ]
          },
          "metadata": {},
          "execution_count": 270
        }
      ]
    },
    {
      "cell_type": "code",
      "source": [
        "model.score(stest[['X1','X2']],stest['target'])"
      ],
      "metadata": {
        "colab": {
          "base_uri": "https://localhost:8080/"
        },
        "id": "_SMvqZXFdlpT",
        "outputId": "c9f06477-c7f8-47d3-8e18-c0c67ea3d192"
      },
      "execution_count": 271,
      "outputs": [
        {
          "output_type": "execute_result",
          "data": {
            "text/plain": [
              "1.0"
            ]
          },
          "metadata": {},
          "execution_count": 271
        }
      ]
    },
    {
      "cell_type": "code",
      "source": [
        "#Retrieve Model parameters.\n",
        "b = model.intercept_[0]\n",
        "\n",
        "#Calculate the intercept and gradient of decision boundary\n",
        "w1,w2 = model.coef_.T"
      ],
      "metadata": {
        "id": "5xXANMm6d3M0"
      },
      "execution_count": 272,
      "outputs": []
    },
    {
      "cell_type": "code",
      "source": [
        "# Calculate the intercept and gradient of the decision boundary.\n",
        "c = -b/w2\n",
        "m = -w1/w2"
      ],
      "metadata": {
        "id": "Hs7r9U3u3xJt"
      },
      "execution_count": 273,
      "outputs": []
    },
    {
      "cell_type": "code",
      "source": [
        "# Plot the data and the classification with the decision boundary.\n",
        "xmin, xmax = -1, 2\n",
        "ymin, ymax = -1, 2.5\n",
        "xd = np.array([xmin, xmax])\n",
        "yd = m*xd + c"
      ],
      "metadata": {
        "id": "x1pwg5kF32iG"
      },
      "execution_count": 274,
      "outputs": []
    },
    {
      "cell_type": "code",
      "source": [
        "plt.plot(xd, yd, 'k', lw=1, ls='--')\n",
        "plt.fill_between(xd, yd, ymin, color='tab:blue', alpha=0.2)\n",
        "plt.fill_between(xd, yd, ymax, color='tab:orange', alpha=0.2)\n",
        "\n",
        "df0 = df_test[df_test.target==0]\n",
        "df1 = df_test[df_test.target==1]\n",
        "\n",
        "plt.scatter(df0['X1'],df0['X2'],color='red',marker='.')\n",
        "plt.scatter(df1['X1'],df1['X2'],color='blue',marker='.')\n",
        "plt.xlim(xmin, xmax)\n",
        "plt.ylim(ymin, ymax)\n",
        "plt.ylabel(r'$x_2$')\n",
        "plt.xlabel(r'$x_1$')"
      ],
      "metadata": {
        "colab": {
          "base_uri": "https://localhost:8080/",
          "height": 302
        },
        "id": "0oCYEJxqG3yB",
        "outputId": "a90367f7-7882-4b3f-e7ec-38d9af1bb421"
      },
      "execution_count": 275,
      "outputs": [
        {
          "output_type": "execute_result",
          "data": {
            "text/plain": [
              "Text(0.5, 0, '$x_1$')"
            ]
          },
          "metadata": {},
          "execution_count": 275
        },
        {
          "output_type": "display_data",
          "data": {
            "image/png": "[encoded data removed]",
            "text/plain": [
              "<Figure size 432x288 with 1 Axes>"
            ]
          },
          "metadata": {
            "needs_background": "light"
          }
        }
      ]
    },
    {
      "cell_type": "code",
      "source": [
        ""
      ],
      "metadata": {
        "id": "FM7SQbQSHFwj"
      },
      "execution_count": null,
      "outputs": []
    }
  ]
}